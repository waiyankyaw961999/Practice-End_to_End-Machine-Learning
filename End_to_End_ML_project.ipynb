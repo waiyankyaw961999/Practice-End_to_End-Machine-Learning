{
  "nbformat": 4,
  "nbformat_minor": 0,
  "metadata": {
    "colab": {
      "name": "End_to_End_ML_project.ipynb",
      "provenance": [],
      "collapsed_sections": [
        "aMlekhHdDcpH",
        "P3txc1VS9Cia"
      ],
      "authorship_tag": "ABX9TyM/qDNH3r2TnuZvSk8mp1ow",
      "include_colab_link": true
    },
    "kernelspec": {
      "name": "python3",
      "display_name": "Python 3"
    },
    "language_info": {
      "name": "python"
    }
  },
  "cells": [
    {
      "cell_type": "markdown",
      "metadata": {
        "id": "view-in-github",
        "colab_type": "text"
      },
      "source": [
        "<a href=\"https://colab.research.google.com/github/waiyankyaw961999/Practice-End_to_End-Machine-Learning-/blob/main/End_to_End_ML_project.ipynb\" target=\"_parent\"><img src=\"https://colab.research.google.com/assets/colab-badge.svg\" alt=\"Open In Colab\"/></a>"
      ]
    },
    {
      "cell_type": "markdown",
      "metadata": {
        "id": "RR7QqfhA5tIy"
      },
      "source": [
        "# End_to_End Machine Learnig Model"
      ]
    },
    {
      "cell_type": "markdown",
      "metadata": {
        "id": "LH2Y_CPC2lJ6"
      },
      "source": [
        "## Collect Data from UCI ML repository"
      ]
    },
    {
      "cell_type": "markdown",
      "metadata": {
        "id": "2MwFfcXg68Sh"
      },
      "source": [
        "<h2>Data Set Information:</h2>\n",
        "\n",
        "This dataset is a slightly modified version of the dataset provided in the StatLib library. In line with the use by Ross Quinlan (1993) in predicting the attribute \"mpg\", 8 of the original instances were removed because they had unknown values for the \"mpg\" attribute. The original dataset is available in the file \"auto-mpg.data-original\".\n",
        "\n",
        "\"The data concerns city-cycle fuel consumption in miles per gallon, to be predicted in terms of 3 multivalued discrete and 5 continuous attributes.\" (Quinlan, 1993)\n",
        "\n",
        "\n",
        "Attribute Information:\n",
        "\n",
        "1. mpg: continuous\n",
        "2. cylinders: multi-valued discrete\n",
        "3. displacement: continuous\n",
        "4. horsepower: continuous\n",
        "5. weight: continuous\n",
        "6. acceleration: continuous\n",
        "7. model year: multi-valued discrete\n",
        "8. origin: multi-valued discrete\n",
        "9. car name: string (unique for each instance)"
      ]
    },
    {
      "cell_type": "code",
      "metadata": {
        "colab": {
          "base_uri": "https://localhost:8080/"
        },
        "id": "2TTOxl8Y2btO",
        "outputId": "ae81b1bb-d764-451e-8ea3-636714cd02fb"
      },
      "source": [
        "!wget \"https://archive.ics.uci.edu/ml/machine-learning-databases/auto-mpg/auto-mpg.data\""
      ],
      "execution_count": 2,
      "outputs": [
        {
          "output_type": "stream",
          "text": [
            "--2021-06-05 09:43:52--  https://archive.ics.uci.edu/ml/machine-learning-databases/auto-mpg/auto-mpg.data\n",
            "Resolving archive.ics.uci.edu (archive.ics.uci.edu)... 128.195.10.252\n",
            "Connecting to archive.ics.uci.edu (archive.ics.uci.edu)|128.195.10.252|:443... connected.\n",
            "HTTP request sent, awaiting response... 200 OK\n",
            "Length: 30286 (30K) [application/x-httpd-php]\n",
            "Saving to: ‘auto-mpg.data’\n",
            "\n",
            "auto-mpg.data       100%[===================>]  29.58K   197KB/s    in 0.2s    \n",
            "\n",
            "2021-06-05 09:43:53 (197 KB/s) - ‘auto-mpg.data’ saved [30286/30286]\n",
            "\n"
          ],
          "name": "stdout"
        }
      ]
    },
    {
      "cell_type": "code",
      "metadata": {
        "id": "Vm9pQkUH5Uei"
      },
      "source": [
        "import numpy as np\n",
        "import seaborn as sns\n",
        "import pandas as pd\n",
        "import matplotlib.pyplot as plt"
      ],
      "execution_count": 3,
      "outputs": []
    },
    {
      "cell_type": "markdown",
      "metadata": {
        "id": "QcPDrem35qcT"
      },
      "source": [
        "## Loading Dataset"
      ]
    },
    {
      "cell_type": "code",
      "metadata": {
        "id": "jvXFBPpn5o-j"
      },
      "source": [
        "cols = ['mpg','cylinders','displacement','horsepower','weight','acceleration','model_year','origin']\n",
        "df = pd.read_csv('/content/auto-mpg.data',\n",
        "                   na_values = \"?\",\n",
        "                   names = cols,\n",
        "                   comment = \"\\t\",\n",
        "                   sep = \" \",                  \n",
        "                   skipinitialspace = True)\n",
        "\n",
        "data = df.copy()"
      ],
      "execution_count": 4,
      "outputs": []
    },
    {
      "cell_type": "code",
      "metadata": {
        "colab": {
          "base_uri": "https://localhost:8080/",
          "height": 205
        },
        "id": "Ho-ISNgo6IQ8",
        "outputId": "fac05046-c6be-40bf-f87d-29488e999088"
      },
      "source": [
        "data.head()"
      ],
      "execution_count": 5,
      "outputs": [
        {
          "output_type": "execute_result",
          "data": {
            "text/html": [
              "<div>\n",
              "<style scoped>\n",
              "    .dataframe tbody tr th:only-of-type {\n",
              "        vertical-align: middle;\n",
              "    }\n",
              "\n",
              "    .dataframe tbody tr th {\n",
              "        vertical-align: top;\n",
              "    }\n",
              "\n",
              "    .dataframe thead th {\n",
              "        text-align: right;\n",
              "    }\n",
              "</style>\n",
              "<table border=\"1\" class=\"dataframe\">\n",
              "  <thead>\n",
              "    <tr style=\"text-align: right;\">\n",
              "      <th></th>\n",
              "      <th>mpg</th>\n",
              "      <th>cylinders</th>\n",
              "      <th>displacement</th>\n",
              "      <th>horsepower</th>\n",
              "      <th>weight</th>\n",
              "      <th>acceleration</th>\n",
              "      <th>model_year</th>\n",
              "      <th>origin</th>\n",
              "    </tr>\n",
              "  </thead>\n",
              "  <tbody>\n",
              "    <tr>\n",
              "      <th>0</th>\n",
              "      <td>18.0</td>\n",
              "      <td>8</td>\n",
              "      <td>307.0</td>\n",
              "      <td>130.0</td>\n",
              "      <td>3504.0</td>\n",
              "      <td>12.0</td>\n",
              "      <td>70</td>\n",
              "      <td>1</td>\n",
              "    </tr>\n",
              "    <tr>\n",
              "      <th>1</th>\n",
              "      <td>15.0</td>\n",
              "      <td>8</td>\n",
              "      <td>350.0</td>\n",
              "      <td>165.0</td>\n",
              "      <td>3693.0</td>\n",
              "      <td>11.5</td>\n",
              "      <td>70</td>\n",
              "      <td>1</td>\n",
              "    </tr>\n",
              "    <tr>\n",
              "      <th>2</th>\n",
              "      <td>18.0</td>\n",
              "      <td>8</td>\n",
              "      <td>318.0</td>\n",
              "      <td>150.0</td>\n",
              "      <td>3436.0</td>\n",
              "      <td>11.0</td>\n",
              "      <td>70</td>\n",
              "      <td>1</td>\n",
              "    </tr>\n",
              "    <tr>\n",
              "      <th>3</th>\n",
              "      <td>16.0</td>\n",
              "      <td>8</td>\n",
              "      <td>304.0</td>\n",
              "      <td>150.0</td>\n",
              "      <td>3433.0</td>\n",
              "      <td>12.0</td>\n",
              "      <td>70</td>\n",
              "      <td>1</td>\n",
              "    </tr>\n",
              "    <tr>\n",
              "      <th>4</th>\n",
              "      <td>17.0</td>\n",
              "      <td>8</td>\n",
              "      <td>302.0</td>\n",
              "      <td>140.0</td>\n",
              "      <td>3449.0</td>\n",
              "      <td>10.5</td>\n",
              "      <td>70</td>\n",
              "      <td>1</td>\n",
              "    </tr>\n",
              "  </tbody>\n",
              "</table>\n",
              "</div>"
            ],
            "text/plain": [
              "    mpg  cylinders  displacement  ...  acceleration  model_year  origin\n",
              "0  18.0          8         307.0  ...          12.0          70       1\n",
              "1  15.0          8         350.0  ...          11.5          70       1\n",
              "2  18.0          8         318.0  ...          11.0          70       1\n",
              "3  16.0          8         304.0  ...          12.0          70       1\n",
              "4  17.0          8         302.0  ...          10.5          70       1\n",
              "\n",
              "[5 rows x 8 columns]"
            ]
          },
          "metadata": {
            "tags": []
          },
          "execution_count": 5
        }
      ]
    },
    {
      "cell_type": "markdown",
      "metadata": {
        "id": "aMlekhHdDcpH"
      },
      "source": [
        "## Problem Statement"
      ]
    },
    {
      "cell_type": "markdown",
      "metadata": {
        "id": "YCasmfFT8Vyx"
      },
      "source": [
        "The goal is to build a model which can predict MPG for a particular vechicle based on the contributing factors of horsepower, model_year, cylinders, weight and displacement."
      ]
    },
    {
      "cell_type": "markdown",
      "metadata": {
        "id": "P3txc1VS9Cia"
      },
      "source": [
        "## Exploratory Data Analysis"
      ]
    },
    {
      "cell_type": "code",
      "metadata": {
        "colab": {
          "base_uri": "https://localhost:8080/"
        },
        "id": "u4d1I9Yf9Qoa",
        "outputId": "c2f10208-0d75-4e9b-8775-ac9ec9e8ec7d"
      },
      "source": [
        "data.info()"
      ],
      "execution_count": 6,
      "outputs": [
        {
          "output_type": "stream",
          "text": [
            "<class 'pandas.core.frame.DataFrame'>\n",
            "RangeIndex: 398 entries, 0 to 397\n",
            "Data columns (total 8 columns):\n",
            " #   Column        Non-Null Count  Dtype  \n",
            "---  ------        --------------  -----  \n",
            " 0   mpg           398 non-null    float64\n",
            " 1   cylinders     398 non-null    int64  \n",
            " 2   displacement  398 non-null    float64\n",
            " 3   horsepower    392 non-null    float64\n",
            " 4   weight        398 non-null    float64\n",
            " 5   acceleration  398 non-null    float64\n",
            " 6   model_year    398 non-null    int64  \n",
            " 7   origin        398 non-null    int64  \n",
            "dtypes: float64(5), int64(3)\n",
            "memory usage: 25.0 KB\n"
          ],
          "name": "stdout"
        }
      ]
    },
    {
      "cell_type": "markdown",
      "metadata": {
        "id": "x0PvLtfhJ1HD"
      },
      "source": [
        "The dataset contains 398 rows for each column. But for the column of horsepower, there are 6 empty rows. "
      ]
    },
    {
      "cell_type": "code",
      "metadata": {
        "colab": {
          "base_uri": "https://localhost:8080/",
          "height": 0
        },
        "id": "qhohxrmt90UF",
        "outputId": "0cc0512b-8091-4c1c-ad73-933080290fad"
      },
      "source": [
        "data.describe()"
      ],
      "execution_count": 7,
      "outputs": [
        {
          "output_type": "execute_result",
          "data": {
            "text/html": [
              "<div>\n",
              "<style scoped>\n",
              "    .dataframe tbody tr th:only-of-type {\n",
              "        vertical-align: middle;\n",
              "    }\n",
              "\n",
              "    .dataframe tbody tr th {\n",
              "        vertical-align: top;\n",
              "    }\n",
              "\n",
              "    .dataframe thead th {\n",
              "        text-align: right;\n",
              "    }\n",
              "</style>\n",
              "<table border=\"1\" class=\"dataframe\">\n",
              "  <thead>\n",
              "    <tr style=\"text-align: right;\">\n",
              "      <th></th>\n",
              "      <th>mpg</th>\n",
              "      <th>cylinders</th>\n",
              "      <th>displacement</th>\n",
              "      <th>horsepower</th>\n",
              "      <th>weight</th>\n",
              "      <th>acceleration</th>\n",
              "      <th>model_year</th>\n",
              "      <th>origin</th>\n",
              "    </tr>\n",
              "  </thead>\n",
              "  <tbody>\n",
              "    <tr>\n",
              "      <th>count</th>\n",
              "      <td>398.000000</td>\n",
              "      <td>398.000000</td>\n",
              "      <td>398.000000</td>\n",
              "      <td>392.000000</td>\n",
              "      <td>398.000000</td>\n",
              "      <td>398.000000</td>\n",
              "      <td>398.000000</td>\n",
              "      <td>398.000000</td>\n",
              "    </tr>\n",
              "    <tr>\n",
              "      <th>mean</th>\n",
              "      <td>23.514573</td>\n",
              "      <td>5.454774</td>\n",
              "      <td>193.425879</td>\n",
              "      <td>104.469388</td>\n",
              "      <td>2970.424623</td>\n",
              "      <td>15.568090</td>\n",
              "      <td>76.010050</td>\n",
              "      <td>1.572864</td>\n",
              "    </tr>\n",
              "    <tr>\n",
              "      <th>std</th>\n",
              "      <td>7.815984</td>\n",
              "      <td>1.701004</td>\n",
              "      <td>104.269838</td>\n",
              "      <td>38.491160</td>\n",
              "      <td>846.841774</td>\n",
              "      <td>2.757689</td>\n",
              "      <td>3.697627</td>\n",
              "      <td>0.802055</td>\n",
              "    </tr>\n",
              "    <tr>\n",
              "      <th>min</th>\n",
              "      <td>9.000000</td>\n",
              "      <td>3.000000</td>\n",
              "      <td>68.000000</td>\n",
              "      <td>46.000000</td>\n",
              "      <td>1613.000000</td>\n",
              "      <td>8.000000</td>\n",
              "      <td>70.000000</td>\n",
              "      <td>1.000000</td>\n",
              "    </tr>\n",
              "    <tr>\n",
              "      <th>25%</th>\n",
              "      <td>17.500000</td>\n",
              "      <td>4.000000</td>\n",
              "      <td>104.250000</td>\n",
              "      <td>75.000000</td>\n",
              "      <td>2223.750000</td>\n",
              "      <td>13.825000</td>\n",
              "      <td>73.000000</td>\n",
              "      <td>1.000000</td>\n",
              "    </tr>\n",
              "    <tr>\n",
              "      <th>50%</th>\n",
              "      <td>23.000000</td>\n",
              "      <td>4.000000</td>\n",
              "      <td>148.500000</td>\n",
              "      <td>93.500000</td>\n",
              "      <td>2803.500000</td>\n",
              "      <td>15.500000</td>\n",
              "      <td>76.000000</td>\n",
              "      <td>1.000000</td>\n",
              "    </tr>\n",
              "    <tr>\n",
              "      <th>75%</th>\n",
              "      <td>29.000000</td>\n",
              "      <td>8.000000</td>\n",
              "      <td>262.000000</td>\n",
              "      <td>126.000000</td>\n",
              "      <td>3608.000000</td>\n",
              "      <td>17.175000</td>\n",
              "      <td>79.000000</td>\n",
              "      <td>2.000000</td>\n",
              "    </tr>\n",
              "    <tr>\n",
              "      <th>max</th>\n",
              "      <td>46.600000</td>\n",
              "      <td>8.000000</td>\n",
              "      <td>455.000000</td>\n",
              "      <td>230.000000</td>\n",
              "      <td>5140.000000</td>\n",
              "      <td>24.800000</td>\n",
              "      <td>82.000000</td>\n",
              "      <td>3.000000</td>\n",
              "    </tr>\n",
              "  </tbody>\n",
              "</table>\n",
              "</div>"
            ],
            "text/plain": [
              "              mpg   cylinders  ...  model_year      origin\n",
              "count  398.000000  398.000000  ...  398.000000  398.000000\n",
              "mean    23.514573    5.454774  ...   76.010050    1.572864\n",
              "std      7.815984    1.701004  ...    3.697627    0.802055\n",
              "min      9.000000    3.000000  ...   70.000000    1.000000\n",
              "25%     17.500000    4.000000  ...   73.000000    1.000000\n",
              "50%     23.000000    4.000000  ...   76.000000    1.000000\n",
              "75%     29.000000    8.000000  ...   79.000000    2.000000\n",
              "max     46.600000    8.000000  ...   82.000000    3.000000\n",
              "\n",
              "[8 rows x 8 columns]"
            ]
          },
          "metadata": {
            "tags": []
          },
          "execution_count": 7
        }
      ]
    },
    {
      "cell_type": "code",
      "metadata": {
        "colab": {
          "base_uri": "https://localhost:8080/",
          "height": 0
        },
        "id": "pDNsRUarBoGM",
        "outputId": "ecf1d31a-aaa9-43ae-d646-09fb6fa2f4f7"
      },
      "source": [
        "sns.pairplot(data[['mpg','cylinders','displacement','weight','horsepower']])"
      ],
      "execution_count": 8,
      "outputs": [
        {
          "output_type": "execute_result",
          "data": {
            "text/plain": [
              "<seaborn.axisgrid.PairGrid at 0x7f0f5b7582d0>"
            ]
          },
          "metadata": {
            "tags": []
          },
          "execution_count": 8
        },
        {
          "output_type": "display_data",
          "data": {
            "image/png": "[encoded data removed]",
            "text/plain": [
              "<Figure size 900x900 with 30 Axes>"
            ]
          },
          "metadata": {
            "tags": [],
            "needs_background": "light"
          }
        }
      ]
    },
    {
      "cell_type": "markdown",
      "metadata": {
        "id": "stJaHq4iCNQk"
      },
      "source": [
        "The following assumptions are made according to the above charts:\n",
        "1. The feature 'mpg' is negatively correlated with the other features.\n",
        "2. The feature 'Horse power' is positively correlated to the displacement and weight features.\n",
        "\n",
        "Since we are going to use supervised learning model, we will set the mpg for our predicting parameter.\n"
      ]
    },
    {
      "cell_type": "markdown",
      "metadata": {
        "id": "P0ji8kpr9MP1"
      },
      "source": [
        "## Data Preparation"
      ]
    },
    {
      "cell_type": "code",
      "metadata": {
        "id": "nG09vKa_DkRK"
      },
      "source": [
        "from sklearn.model_selection import StratifiedShuffleSplit\n",
        "\n",
        "import warnings\n",
        "warnings.filterwarnings('ignore')"
      ],
      "execution_count": 9,
      "outputs": []
    },
    {
      "cell_type": "code",
      "metadata": {
        "id": "RrQUpE5_EP-w"
      },
      "source": [
        "split = StratifiedShuffleSplit(n_splits=1,test_size=0.2,random_state= 42) # split the dataset by the index \n",
        "\n",
        "for train_index, test_index in split.split(data,data['cylinders']):\n",
        "  strat_train_set = data.loc[train_index]\n",
        "  strat_test_set = data.loc[test_index]"
      ],
      "execution_count": 10,
      "outputs": []
    },
    {
      "cell_type": "code",
      "metadata": {
        "id": "sYqWcNjgEjY6",
        "colab": {
          "base_uri": "https://localhost:8080/",
          "height": 205
        },
        "outputId": "964132f4-e9dd-4c7a-8d1d-798455ff5a12"
      },
      "source": [
        "data = strat_train_set.iloc[:,1:]\n",
        "labels = strat_train_set['mpg'].copy()\n",
        "data.head()"
      ],
      "execution_count": 11,
      "outputs": [
        {
          "output_type": "execute_result",
          "data": {
            "text/html": [
              "<div>\n",
              "<style scoped>\n",
              "    .dataframe tbody tr th:only-of-type {\n",
              "        vertical-align: middle;\n",
              "    }\n",
              "\n",
              "    .dataframe tbody tr th {\n",
              "        vertical-align: top;\n",
              "    }\n",
              "\n",
              "    .dataframe thead th {\n",
              "        text-align: right;\n",
              "    }\n",
              "</style>\n",
              "<table border=\"1\" class=\"dataframe\">\n",
              "  <thead>\n",
              "    <tr style=\"text-align: right;\">\n",
              "      <th></th>\n",
              "      <th>cylinders</th>\n",
              "      <th>displacement</th>\n",
              "      <th>horsepower</th>\n",
              "      <th>weight</th>\n",
              "      <th>acceleration</th>\n",
              "      <th>model_year</th>\n",
              "      <th>origin</th>\n",
              "    </tr>\n",
              "  </thead>\n",
              "  <tbody>\n",
              "    <tr>\n",
              "      <th>145</th>\n",
              "      <td>4</td>\n",
              "      <td>83.0</td>\n",
              "      <td>61.0</td>\n",
              "      <td>2003.0</td>\n",
              "      <td>19.0</td>\n",
              "      <td>74</td>\n",
              "      <td>3</td>\n",
              "    </tr>\n",
              "    <tr>\n",
              "      <th>151</th>\n",
              "      <td>4</td>\n",
              "      <td>79.0</td>\n",
              "      <td>67.0</td>\n",
              "      <td>2000.0</td>\n",
              "      <td>16.0</td>\n",
              "      <td>74</td>\n",
              "      <td>2</td>\n",
              "    </tr>\n",
              "    <tr>\n",
              "      <th>388</th>\n",
              "      <td>4</td>\n",
              "      <td>156.0</td>\n",
              "      <td>92.0</td>\n",
              "      <td>2585.0</td>\n",
              "      <td>14.5</td>\n",
              "      <td>82</td>\n",
              "      <td>1</td>\n",
              "    </tr>\n",
              "    <tr>\n",
              "      <th>48</th>\n",
              "      <td>6</td>\n",
              "      <td>250.0</td>\n",
              "      <td>88.0</td>\n",
              "      <td>3139.0</td>\n",
              "      <td>14.5</td>\n",
              "      <td>71</td>\n",
              "      <td>1</td>\n",
              "    </tr>\n",
              "    <tr>\n",
              "      <th>114</th>\n",
              "      <td>4</td>\n",
              "      <td>98.0</td>\n",
              "      <td>90.0</td>\n",
              "      <td>2265.0</td>\n",
              "      <td>15.5</td>\n",
              "      <td>73</td>\n",
              "      <td>2</td>\n",
              "    </tr>\n",
              "  </tbody>\n",
              "</table>\n",
              "</div>"
            ],
            "text/plain": [
              "     cylinders  displacement  horsepower  ...  acceleration  model_year  origin\n",
              "145          4          83.0        61.0  ...          19.0          74       3\n",
              "151          4          79.0        67.0  ...          16.0          74       2\n",
              "388          4         156.0        92.0  ...          14.5          82       1\n",
              "48           6         250.0        88.0  ...          14.5          71       1\n",
              "114          4          98.0        90.0  ...          15.5          73       2\n",
              "\n",
              "[5 rows x 7 columns]"
            ]
          },
          "metadata": {
            "tags": []
          },
          "execution_count": 11
        }
      ]
    },
    {
      "cell_type": "markdown",
      "metadata": {
        "id": "pFS3fN5uEuxz"
      },
      "source": [
        "## Processing"
      ]
    },
    {
      "cell_type": "code",
      "metadata": {
        "colab": {
          "base_uri": "https://localhost:8080/",
          "height": 205
        },
        "id": "_XQMyXllEyxr",
        "outputId": "4fc067e7-5df3-45e4-ee8b-9df84f58e204"
      },
      "source": [
        "def preprocess_origins_cols(df):\n",
        "  df['origin'] = df['origin'].map({1:\"India\",2:\"USA\",3:\"Germany\"})\n",
        "  return df\n",
        "\n",
        "data_train = preprocess_origins_cols(data)\n",
        "data_train.head()"
      ],
      "execution_count": 12,
      "outputs": [
        {
          "output_type": "execute_result",
          "data": {
            "text/html": [
              "<div>\n",
              "<style scoped>\n",
              "    .dataframe tbody tr th:only-of-type {\n",
              "        vertical-align: middle;\n",
              "    }\n",
              "\n",
              "    .dataframe tbody tr th {\n",
              "        vertical-align: top;\n",
              "    }\n",
              "\n",
              "    .dataframe thead th {\n",
              "        text-align: right;\n",
              "    }\n",
              "</style>\n",
              "<table border=\"1\" class=\"dataframe\">\n",
              "  <thead>\n",
              "    <tr style=\"text-align: right;\">\n",
              "      <th></th>\n",
              "      <th>cylinders</th>\n",
              "      <th>displacement</th>\n",
              "      <th>horsepower</th>\n",
              "      <th>weight</th>\n",
              "      <th>acceleration</th>\n",
              "      <th>model_year</th>\n",
              "      <th>origin</th>\n",
              "    </tr>\n",
              "  </thead>\n",
              "  <tbody>\n",
              "    <tr>\n",
              "      <th>145</th>\n",
              "      <td>4</td>\n",
              "      <td>83.0</td>\n",
              "      <td>61.0</td>\n",
              "      <td>2003.0</td>\n",
              "      <td>19.0</td>\n",
              "      <td>74</td>\n",
              "      <td>Germany</td>\n",
              "    </tr>\n",
              "    <tr>\n",
              "      <th>151</th>\n",
              "      <td>4</td>\n",
              "      <td>79.0</td>\n",
              "      <td>67.0</td>\n",
              "      <td>2000.0</td>\n",
              "      <td>16.0</td>\n",
              "      <td>74</td>\n",
              "      <td>USA</td>\n",
              "    </tr>\n",
              "    <tr>\n",
              "      <th>388</th>\n",
              "      <td>4</td>\n",
              "      <td>156.0</td>\n",
              "      <td>92.0</td>\n",
              "      <td>2585.0</td>\n",
              "      <td>14.5</td>\n",
              "      <td>82</td>\n",
              "      <td>India</td>\n",
              "    </tr>\n",
              "    <tr>\n",
              "      <th>48</th>\n",
              "      <td>6</td>\n",
              "      <td>250.0</td>\n",
              "      <td>88.0</td>\n",
              "      <td>3139.0</td>\n",
              "      <td>14.5</td>\n",
              "      <td>71</td>\n",
              "      <td>India</td>\n",
              "    </tr>\n",
              "    <tr>\n",
              "      <th>114</th>\n",
              "      <td>4</td>\n",
              "      <td>98.0</td>\n",
              "      <td>90.0</td>\n",
              "      <td>2265.0</td>\n",
              "      <td>15.5</td>\n",
              "      <td>73</td>\n",
              "      <td>USA</td>\n",
              "    </tr>\n",
              "  </tbody>\n",
              "</table>\n",
              "</div>"
            ],
            "text/plain": [
              "     cylinders  displacement  horsepower  ...  acceleration  model_year   origin\n",
              "145          4          83.0        61.0  ...          19.0          74  Germany\n",
              "151          4          79.0        67.0  ...          16.0          74      USA\n",
              "388          4         156.0        92.0  ...          14.5          82    India\n",
              "48           6         250.0        88.0  ...          14.5          71    India\n",
              "114          4          98.0        90.0  ...          15.5          73      USA\n",
              "\n",
              "[5 rows x 7 columns]"
            ]
          },
          "metadata": {
            "tags": []
          },
          "execution_count": 12
        }
      ]
    },
    {
      "cell_type": "markdown",
      "metadata": {
        "id": "f_7Xj3vsJlzz"
      },
      "source": [
        "<h2> Adding Attributes using BaseEstimator and Transformer</h2>"
      ]
    },
    {
      "cell_type": "code",
      "metadata": {
        "id": "CVJPxuCxJtLY"
      },
      "source": [
        "from sklearn.base import BaseEstimator, TransformerMixin\n",
        "\n",
        "#creating custom attribute adder class\n",
        "acc_ix, hpower_ix, cyl_ix = 4,2,0\n",
        "\n",
        "class CustomAttrAdder(BaseEstimator, TransformerMixin):\n",
        "    def __init__(self, acc_on_power=True): # no *args or **kargs\n",
        "        self.acc_on_power = acc_on_power\n",
        "    def fit(self, X, y=None):\n",
        "        return self  # nothing else to do\n",
        "    def transform(self, X):\n",
        "        acc_on_cyl = X[:, acc_ix] / X[:, cyl_ix]\n",
        "        if self.acc_on_power:\n",
        "            acc_on_power = X[:, acc_ix] / X[:, hpower_ix]\n",
        "            return np.c_[X, acc_on_power, acc_on_cyl]\n",
        "        \n",
        "        return np.c_[X, acc_on_cyl]"
      ],
      "execution_count": 13,
      "outputs": []
    },
    {
      "cell_type": "markdown",
      "metadata": {
        "id": "vXtxXmbRL6Ag"
      },
      "source": [
        "## Creating a Pipeline of Tasks"
      ]
    },
    {
      "cell_type": "code",
      "metadata": {
        "id": "HSmORpGqL5Sh"
      },
      "source": [
        "from sklearn.pipeline import Pipeline\n",
        "from sklearn.preprocessing import StandardScaler\n",
        "from sklearn.impute import SimpleImputer\n",
        "from sklearn.preprocessing import OneHotEncoder\n",
        "from sklearn.compose import ColumnTransformer\n",
        "\n",
        "def num_pipeline_transformer(data):\n",
        "    '''\n",
        "    Function to process numerical transformations\n",
        "    Argument:\n",
        "        data: original dataframe \n",
        "    Returns:\n",
        "        num_attrs: numerical dataframe\n",
        "        num_pipeline: numerical pipeline object\n",
        "    '''\n",
        "    numerics = ['float64', 'int64']\n",
        "    num_attrs = data.select_dtypes(include=numerics)\n",
        "\n",
        "    num_pipeline = Pipeline([\n",
        "        ('imputer', SimpleImputer(strategy=\"median\")),\n",
        "        ('attrs_adder', CustomAttrAdder()),\n",
        "        ('std_scaler', StandardScaler()),])\n",
        "    return num_attrs, num_pipeline\n",
        "\n",
        "def pipeline_transformer(data):\n",
        "    '''\n",
        "    Complete transformation pipeline for both\n",
        "    numerical and categorical data.\n",
        "    \n",
        "    Argument:\n",
        "        data: original dataframe \n",
        "    Returns:\n",
        "        prepared_data: transformed data, ready to use\n",
        "    '''\n",
        "    cat_attrs = [\"origin\"]\n",
        "    num_attrs, num_pipeline = num_pipeline_transformer(data)\n",
        "    full_pipeline = ColumnTransformer([\n",
        "        (\"num\", num_pipeline, list(num_attrs)),\n",
        "        (\"cat\", OneHotEncoder(), cat_attrs),])\n",
        "    prepared_data = full_pipeline.fit_transform(data)\n",
        "    return prepared_data"
      ],
      "execution_count": 14,
      "outputs": []
    },
    {
      "cell_type": "code",
      "metadata": {
        "colab": {
          "base_uri": "https://localhost:8080/"
        },
        "id": "SV3BaTVPU-SW",
        "outputId": "0b30a7e2-e016-4aa6-ac27-5e68ca1ebc4d"
      },
      "source": [
        "#from raw data to processed data in 2 steps\n",
        "data = strat_train_set.iloc[:,1:]\n",
        "preprocessed_df = preprocess_origins_cols(data)\n",
        "prepared_data = pipeline_transformer(preprocessed_df)\n",
        "prepared_data"
      ],
      "execution_count": 16,
      "outputs": [
        {
          "output_type": "execute_result",
          "data": {
            "text/plain": [
              "array([[-0.85657842, -1.07804475, -1.15192977, ...,  1.        ,\n",
              "         0.        ,  0.        ],\n",
              "       [-0.85657842, -1.1174582 , -0.9900351 , ...,  0.        ,\n",
              "         0.        ,  1.        ],\n",
              "       [-0.85657842, -0.3587492 , -0.31547399, ...,  0.        ,\n",
              "         1.        ,  0.        ],\n",
              "       ...,\n",
              "       [-0.85657842, -0.56566984, -0.53133355, ...,  0.        ,\n",
              "         1.        ,  0.        ],\n",
              "       [-0.85657842, -0.78244384, -0.23452666, ...,  1.        ,\n",
              "         0.        ,  0.        ],\n",
              "       [ 0.32260746, -0.45728283,  0.44003446, ...,  1.        ,\n",
              "         0.        ,  0.        ]])"
            ]
          },
          "metadata": {
            "tags": []
          },
          "execution_count": 16
        }
      ]
    },
    {
      "cell_type": "markdown",
      "metadata": {
        "id": "-gg4NdHiTDNX"
      },
      "source": [
        "## Selecting and Training Models"
      ]
    },
    {
      "cell_type": "code",
      "metadata": {
        "id": "2B-VVA3QTXke",
        "colab": {
          "base_uri": "https://localhost:8080/"
        },
        "outputId": "4204e818-48ce-4936-949b-fc8e629c882f"
      },
      "source": [
        "from sklearn.model_selection import cross_val_score\n",
        "from sklearn.linear_model import LinearRegression\n",
        "\n",
        "lin_reg = LinearRegression()\n",
        "lin_reg.fit(prepared_data,labels)"
      ],
      "execution_count": 17,
      "outputs": [
        {
          "output_type": "execute_result",
          "data": {
            "text/plain": [
              "LinearRegression(copy_X=True, fit_intercept=True, n_jobs=None, normalize=False)"
            ]
          },
          "metadata": {
            "tags": []
          },
          "execution_count": 17
        }
      ]
    },
    {
      "cell_type": "code",
      "metadata": {
        "colab": {
          "base_uri": "https://localhost:8080/"
        },
        "id": "_DCo8gaHja9O",
        "outputId": "7dfbc4af-cd3c-43f2-bc6f-cf09b53049ac"
      },
      "source": [
        "sample_data = data.iloc[:5]\n",
        "sample_labels = labels.iloc[:5]\n",
        "sample_data_prepared = pipeline_transformer(sample_data)\n",
        "\n",
        "print(\"Prediction of samples: \", lin_reg.predict(sample_data_prepared))"
      ],
      "execution_count": 18,
      "outputs": [
        {
          "output_type": "stream",
          "text": [
            "Prediction of samples:  [29.08069379 27.78336755 26.08031176 12.70419279 22.23454159]\n"
          ],
          "name": "stdout"
        }
      ]
    },
    {
      "cell_type": "code",
      "metadata": {
        "colab": {
          "base_uri": "https://localhost:8080/"
        },
        "id": "GIyXmWuKjomp",
        "outputId": "0e6f1820-e9be-4e30-c536-9d89cd0a9970"
      },
      "source": [
        "from sklearn.metrics import mean_squared_error\n",
        "\n",
        "mpg_predictions = lin_reg.predict(prepared_data)\n",
        "lin_mse = mean_squared_error(labels, mpg_predictions)\n",
        "lin_rmse = np.sqrt(lin_mse)\n",
        "lin_rmse"
      ],
      "execution_count": 19,
      "outputs": [
        {
          "output_type": "execute_result",
          "data": {
            "text/plain": [
              "2.9590402225760872"
            ]
          },
          "metadata": {
            "tags": []
          },
          "execution_count": 19
        }
      ]
    },
    {
      "cell_type": "code",
      "metadata": {
        "id": "hH3ba3NjlkdV"
      },
      "source": [
        "scores = cross_val_score(lin_reg, prepared_data, labels, scoring=\"neg_mean_squared_error\", cv = 10)\n",
        "\n",
        "lin_reg_rmse_scores = np.sqrt(-scores)\n",
        "lin_reg_rmse = lin_reg_rmse_scores.mean()"
      ],
      "execution_count": 20,
      "outputs": []
    },
    {
      "cell_type": "markdown",
      "metadata": {
        "id": "jbSVmdRGj54F"
      },
      "source": [
        "## Decision Tree"
      ]
    },
    {
      "cell_type": "code",
      "metadata": {
        "colab": {
          "base_uri": "https://localhost:8080/"
        },
        "id": "9JOLGrrgj7_s",
        "outputId": "20af28e8-0b11-4466-fbba-1c784f348e61"
      },
      "source": [
        "from sklearn.tree import DecisionTreeRegressor\n",
        "\n",
        "tree_reg = DecisionTreeRegressor()\n",
        "tree_reg.fit(prepared_data, labels)"
      ],
      "execution_count": 21,
      "outputs": [
        {
          "output_type": "execute_result",
          "data": {
            "text/plain": [
              "DecisionTreeRegressor(ccp_alpha=0.0, criterion='mse', max_depth=None,\n",
              "                      max_features=None, max_leaf_nodes=None,\n",
              "                      min_impurity_decrease=0.0, min_impurity_split=None,\n",
              "                      min_samples_leaf=1, min_samples_split=2,\n",
              "                      min_weight_fraction_leaf=0.0, presort='deprecated',\n",
              "                      random_state=None, splitter='best')"
            ]
          },
          "metadata": {
            "tags": []
          },
          "execution_count": 21
        }
      ]
    },
    {
      "cell_type": "code",
      "metadata": {
        "colab": {
          "base_uri": "https://localhost:8080/"
        },
        "id": "zNCaZ2Y6j-tV",
        "outputId": "1b86109f-4151-4b1f-8c0c-55114628c689"
      },
      "source": [
        "mpg_predictions = tree_reg.predict(prepared_data)\n",
        "tree_mse = mean_squared_error(labels, mpg_predictions)\n",
        "tree_rmse = np.sqrt(tree_mse)\n",
        "tree_rmse"
      ],
      "execution_count": 22,
      "outputs": [
        {
          "output_type": "execute_result",
          "data": {
            "text/plain": [
              "0.0"
            ]
          },
          "metadata": {
            "tags": []
          },
          "execution_count": 22
        }
      ]
    },
    {
      "cell_type": "code",
      "metadata": {
        "colab": {
          "base_uri": "https://localhost:8080/"
        },
        "id": "lzYNBXnEkDM_",
        "outputId": "56cdd38e-e033-4494-bcaa-730f26f381c7"
      },
      "source": [
        "scores = cross_val_score(tree_reg, \n",
        "                         prepared_data, \n",
        "                         labels, \n",
        "                         scoring=\"neg_mean_squared_error\", \n",
        "                         cv = 10)\n",
        "\n",
        "tree_reg_rmse_scores = np.sqrt(-scores)\n",
        "tree_reg_rmse_scores"
      ],
      "execution_count": 23,
      "outputs": [
        {
          "output_type": "execute_result",
          "data": {
            "text/plain": [
              "array([3.2196176 , 3.08205492, 2.97725755, 3.60355727, 2.61187193,\n",
              "       3.28114881, 3.22412779, 4.98563562, 4.13209312, 2.69443872])"
            ]
          },
          "metadata": {
            "tags": []
          },
          "execution_count": 23
        }
      ]
    },
    {
      "cell_type": "code",
      "metadata": {
        "id": "sJ2Oawl2liy5"
      },
      "source": [
        "tree_reg_rmse_scores.mean()\n",
        "tree_reg_rmse = tree_reg_rmse_scores.mean()"
      ],
      "execution_count": 26,
      "outputs": []
    },
    {
      "cell_type": "markdown",
      "metadata": {
        "id": "5MYrX1VPlqyn"
      },
      "source": [
        "## Random Forest model"
      ]
    },
    {
      "cell_type": "code",
      "metadata": {
        "id": "Otc20aI6lrSO"
      },
      "source": [
        "from sklearn.ensemble import RandomForestRegressor\n",
        "\n",
        "forest_reg = RandomForestRegressor()\n",
        "forest_reg.fit(prepared_data, labels)\n",
        "forest_reg_cv_scores = cross_val_score(forest_reg,\n",
        "                                         prepared_data,\n",
        "                                         labels,\n",
        "                                         scoring='neg_mean_squared_error',\n",
        "                                         cv = 10)\n",
        "\n",
        "forest_reg_rmse_scores = np.sqrt(-forest_reg_cv_scores)\n",
        "f_rmse = forest_reg_rmse_scores.mean()"
      ],
      "execution_count": 27,
      "outputs": []
    },
    {
      "cell_type": "markdown",
      "metadata": {
        "id": "jsjfiPG6lz4X"
      },
      "source": [
        "## Support Vector Machine Regressor"
      ]
    },
    {
      "cell_type": "code",
      "metadata": {
        "colab": {
          "base_uri": "https://localhost:8080/"
        },
        "id": "mLO5NDc7lzvs",
        "outputId": "6b4600dd-cbb1-48bf-ce00-b2581246e87e"
      },
      "source": [
        "from sklearn.svm import SVR\n",
        "\n",
        "svm_reg = SVR(kernel='linear')\n",
        "svm_reg.fit(prepared_data, labels)\n",
        "svm_cv_scores = cross_val_score(svm_reg, prepared_data, labels,\n",
        "                                scoring='neg_mean_squared_error',\n",
        "                                cv = 10)\n",
        "\n",
        "print(-svm_cv_scores)\n",
        "svm_rmse_scores = np.sqrt(-svm_cv_scores)\n",
        "svm_rmse = svm_rmse_scores.mean()\n",
        "svm_rmse"
      ],
      "execution_count": 28,
      "outputs": [
        {
          "output_type": "stream",
          "text": [
            "[12.44390488  9.63704815 13.3761688   8.05558382  6.58769854  7.20647819\n",
            " 11.81854584  5.51320558 14.87375082  8.09266788]\n"
          ],
          "name": "stdout"
        },
        {
          "output_type": "execute_result",
          "data": {
            "text/plain": [
              "3.08659162080283"
            ]
          },
          "metadata": {
            "tags": []
          },
          "execution_count": 28
        }
      ]
    },
    {
      "cell_type": "markdown",
      "metadata": {
        "id": "ZSBLz_i6l8Rf"
      },
      "source": [
        "## Hyperparameter Tuning using GridSearchCV"
      ]
    },
    {
      "cell_type": "code",
      "metadata": {
        "colab": {
          "base_uri": "https://localhost:8080/"
        },
        "id": "zAQdUl3Ml8al",
        "outputId": "cca7ecef-d6f9-482e-a609-38d556db8da3"
      },
      "source": [
        "from sklearn.model_selection import GridSearchCV\n",
        "\n",
        "param_grid = [\n",
        "    {'n_estimators': [3, 10, 30], 'max_features': [2, 4, 6, 8]},\n",
        "    {'bootstrap': [False], 'n_estimators': [3, 10], 'max_features': [2, 3, 4]},\n",
        "  ]\n",
        "\n",
        "forest_reg = RandomForestRegressor()\n",
        "\n",
        "grid_search = GridSearchCV(forest_reg, param_grid,\n",
        "                           scoring='neg_mean_squared_error',\n",
        "                           return_train_score=True,\n",
        "                           cv=10,\n",
        "                          )\n",
        "\n",
        "grid_search.fit(prepared_data,labels)"
      ],
      "execution_count": 29,
      "outputs": [
        {
          "output_type": "execute_result",
          "data": {
            "text/plain": [
              "GridSearchCV(cv=10, error_score=nan,\n",
              "             estimator=RandomForestRegressor(bootstrap=True, ccp_alpha=0.0,\n",
              "                                             criterion='mse', max_depth=None,\n",
              "                                             max_features='auto',\n",
              "                                             max_leaf_nodes=None,\n",
              "                                             max_samples=None,\n",
              "                                             min_impurity_decrease=0.0,\n",
              "                                             min_impurity_split=None,\n",
              "                                             min_samples_leaf=1,\n",
              "                                             min_samples_split=2,\n",
              "                                             min_weight_fraction_leaf=0.0,\n",
              "                                             n_estimators=100, n_jobs=None,\n",
              "                                             oob_score=False, random_state=None,\n",
              "                                             verbose=0, warm_start=False),\n",
              "             iid='deprecated', n_jobs=None,\n",
              "             param_grid=[{'max_features': [2, 4, 6, 8],\n",
              "                          'n_estimators': [3, 10, 30]},\n",
              "                         {'bootstrap': [False], 'max_features': [2, 3, 4],\n",
              "                          'n_estimators': [3, 10]}],\n",
              "             pre_dispatch='2*n_jobs', refit=True, return_train_score=True,\n",
              "             scoring='neg_mean_squared_error', verbose=0)"
            ]
          },
          "metadata": {
            "tags": []
          },
          "execution_count": 29
        }
      ]
    },
    {
      "cell_type": "code",
      "metadata": {
        "colab": {
          "base_uri": "https://localhost:8080/"
        },
        "id": "MwKLrXmcmKC6",
        "outputId": "2806d868-e3ad-4a18-d268-0f14ab282289"
      },
      "source": [
        "grid_search.best_params_"
      ],
      "execution_count": 31,
      "outputs": [
        {
          "output_type": "execute_result",
          "data": {
            "text/plain": [
              "{'max_features': 8, 'n_estimators': 30}"
            ]
          },
          "metadata": {
            "tags": []
          },
          "execution_count": 31
        }
      ]
    },
    {
      "cell_type": "code",
      "metadata": {
        "colab": {
          "base_uri": "https://localhost:8080/"
        },
        "id": "_mwqOGU-mMnv",
        "outputId": "3303985b-7706-4eb6-9187-02a936fa5924"
      },
      "source": [
        "cv_scores = grid_search.cv_results_\n",
        "\n",
        "#printing all the parameters along with their scores\n",
        "for mean_score, params in zip(cv_scores['mean_test_score'], cv_scores[\"params\"]):\n",
        "    print(np.sqrt(-mean_score), params)"
      ],
      "execution_count": 32,
      "outputs": [
        {
          "output_type": "stream",
          "text": [
            "3.3727911263638686 {'max_features': 2, 'n_estimators': 3}\n",
            "2.9877183345781098 {'max_features': 2, 'n_estimators': 10}\n",
            "2.8417430250990194 {'max_features': 2, 'n_estimators': 30}\n",
            "3.1955317671851744 {'max_features': 4, 'n_estimators': 3}\n",
            "2.923420184406746 {'max_features': 4, 'n_estimators': 10}\n",
            "2.750881931121279 {'max_features': 4, 'n_estimators': 30}\n",
            "3.31069324162529 {'max_features': 6, 'n_estimators': 3}\n",
            "2.8545367947357065 {'max_features': 6, 'n_estimators': 10}\n",
            "2.743037547624751 {'max_features': 6, 'n_estimators': 30}\n",
            "3.0062738870056 {'max_features': 8, 'n_estimators': 3}\n",
            "2.8035023027082255 {'max_features': 8, 'n_estimators': 10}\n",
            "2.6594930889444646 {'max_features': 8, 'n_estimators': 30}\n",
            "3.4364686950842294 {'bootstrap': False, 'max_features': 2, 'n_estimators': 3}\n",
            "2.9899847947072646 {'bootstrap': False, 'max_features': 2, 'n_estimators': 10}\n",
            "3.245832022029633 {'bootstrap': False, 'max_features': 3, 'n_estimators': 3}\n",
            "2.8846527279530716 {'bootstrap': False, 'max_features': 3, 'n_estimators': 10}\n",
            "3.1822446134088898 {'bootstrap': False, 'max_features': 4, 'n_estimators': 3}\n",
            "2.8154708198629943 {'bootstrap': False, 'max_features': 4, 'n_estimators': 10}\n"
          ],
          "name": "stdout"
        }
      ]
    },
    {
      "cell_type": "code",
      "metadata": {
        "colab": {
          "base_uri": "https://localhost:8080/"
        },
        "id": "q3pbJSaOmQ1k",
        "outputId": "658d8632-eae6-45c3-d9e9-4af83d0cd27e"
      },
      "source": [
        "feature_importances = grid_search.best_estimator_.feature_importances_\n",
        "feature_importances"
      ],
      "execution_count": 33,
      "outputs": [
        {
          "output_type": "execute_result",
          "data": {
            "text/plain": [
              "array([0.15632033, 0.24509854, 0.1290203 , 0.26984338, 0.01485113,\n",
              "       0.11273744, 0.02881802, 0.03702294, 0.0026971 , 0.00219096,\n",
              "       0.00139984])"
            ]
          },
          "metadata": {
            "tags": []
          },
          "execution_count": 33
        }
      ]
    },
    {
      "cell_type": "code",
      "metadata": {
        "colab": {
          "base_uri": "https://localhost:8080/"
        },
        "id": "Y89Nm9s9mSfj",
        "outputId": "4b08cf90-6e7a-4af3-bd8d-1df77421f8b6"
      },
      "source": [
        "extra_attrs = [\"acc_on_power\", \"acc_on_cyl\"]\n",
        "numerics = ['float64', 'int64']\n",
        "num_attrs = list(data.select_dtypes(include=numerics))\n",
        "\n",
        "attrs = num_attrs + extra_attrs\n",
        "sorted(zip(attrs, feature_importances), reverse=True)"
      ],
      "execution_count": 37,
      "outputs": [
        {
          "output_type": "execute_result",
          "data": {
            "text/plain": [
              "[('weight', 0.2698433830858589),\n",
              " ('model_year', 0.11273744436594399),\n",
              " ('horsepower', 0.12902030419105917),\n",
              " ('displacement', 0.24509854163930248),\n",
              " ('cylinders', 0.15632033423849837),\n",
              " ('acceleration', 0.01485112710687362),\n",
              " ('acc_on_power', 0.028818019449540423),\n",
              " ('acc_on_cyl', 0.037022939014089366)]"
            ]
          },
          "metadata": {
            "tags": []
          },
          "execution_count": 37
        }
      ]
    },
    {
      "cell_type": "code",
      "metadata": {
        "colab": {
          "base_uri": "https://localhost:8080/"
        },
        "id": "CpQF5zGQmUuq",
        "outputId": "3b0ed472-6d96-4b9f-c87f-006b3a82742f"
      },
      "source": [
        "final_model = grid_search.best_estimator_\n",
        "\n",
        "X_test = strat_test_set.drop(\"mpg\", axis=1)\n",
        "y_test = strat_test_set[\"mpg\"].copy()\n",
        "\n",
        "X_test_preprocessed = preprocess_origins_cols(X_test)\n",
        "X_test_prepared = pipeline_transformer(X_test_preprocessed)\n",
        "\n",
        "final_predictions = final_model.predict(X_test_prepared)\n",
        "final_mse = mean_squared_error(y_test, final_predictions)\n",
        "final_rmse = np.sqrt(final_mse)\n",
        "final_rmse"
      ],
      "execution_count": 38,
      "outputs": [
        {
          "output_type": "execute_result",
          "data": {
            "text/plain": [
              "3.105681285966093"
            ]
          },
          "metadata": {
            "tags": []
          },
          "execution_count": 38
        }
      ]
    },
    {
      "cell_type": "code",
      "metadata": {
        "colab": {
          "base_uri": "https://localhost:8080/",
          "height": 205
        },
        "id": "smO8V2Dw0IZK",
        "outputId": "e9db77cf-c9e6-4900-e174-da2a0192d6b5"
      },
      "source": [
        "my_dict = {'Linear Regression':lin_reg_rmse,'Decision Tree':tree_reg_rmse,'Random Forest':f_rmse,'SVM Regressor':svm_rmse,'Random Forest(GridSearch)':final_rmse,}\n",
        "model_evaluate = pd.DataFrame(list(my_dict.items()),columns = ['Name','RMSE']) \n",
        "\n",
        "model_evaluate.head()"
      ],
      "execution_count": 39,
      "outputs": [
        {
          "output_type": "execute_result",
          "data": {
            "text/html": [
              "<div>\n",
              "<style scoped>\n",
              "    .dataframe tbody tr th:only-of-type {\n",
              "        vertical-align: middle;\n",
              "    }\n",
              "\n",
              "    .dataframe tbody tr th {\n",
              "        vertical-align: top;\n",
              "    }\n",
              "\n",
              "    .dataframe thead th {\n",
              "        text-align: right;\n",
              "    }\n",
              "</style>\n",
              "<table border=\"1\" class=\"dataframe\">\n",
              "  <thead>\n",
              "    <tr style=\"text-align: right;\">\n",
              "      <th></th>\n",
              "      <th>Name</th>\n",
              "      <th>RMSE</th>\n",
              "    </tr>\n",
              "  </thead>\n",
              "  <tbody>\n",
              "    <tr>\n",
              "      <th>0</th>\n",
              "      <td>Linear Regression</td>\n",
              "      <td>3.075708</td>\n",
              "    </tr>\n",
              "    <tr>\n",
              "      <th>1</th>\n",
              "      <td>Decision Tree</td>\n",
              "      <td>3.381180</td>\n",
              "    </tr>\n",
              "    <tr>\n",
              "      <th>2</th>\n",
              "      <td>Random Forest</td>\n",
              "      <td>2.570493</td>\n",
              "    </tr>\n",
              "    <tr>\n",
              "      <th>3</th>\n",
              "      <td>SVM Regressor</td>\n",
              "      <td>3.086592</td>\n",
              "    </tr>\n",
              "    <tr>\n",
              "      <th>4</th>\n",
              "      <td>Random Forest(GridSearch)</td>\n",
              "      <td>3.105681</td>\n",
              "    </tr>\n",
              "  </tbody>\n",
              "</table>\n",
              "</div>"
            ],
            "text/plain": [
              "                        Name      RMSE\n",
              "0          Linear Regression  3.075708\n",
              "1              Decision Tree  3.381180\n",
              "2              Random Forest  2.570493\n",
              "3              SVM Regressor  3.086592\n",
              "4  Random Forest(GridSearch)  3.105681"
            ]
          },
          "metadata": {
            "tags": []
          },
          "execution_count": 39
        }
      ]
    },
    {
      "cell_type": "markdown",
      "metadata": {
        "id": "p1OVVdCjmZhf"
      },
      "source": [
        "## Creating a function to cover this entire flow"
      ]
    },
    {
      "cell_type": "code",
      "metadata": {
        "id": "5gQQ_xl5mapw"
      },
      "source": [
        "def predict_mpg(config, model):\n",
        "    \n",
        "    if type(config) == dict:\n",
        "        df = pd.DataFrame(config)\n",
        "    else:\n",
        "        df = config\n",
        "    \n",
        "    preproc_df = preprocess_origins_cols(df)\n",
        "    prepared_df = pipeline_transformer(preproc_df)\n",
        "    y_pred = model.predict(prepared_df)\n",
        "    return y_pred"
      ],
      "execution_count": 40,
      "outputs": []
    },
    {
      "cell_type": "code",
      "metadata": {
        "colab": {
          "base_uri": "https://localhost:8080/"
        },
        "id": "JOgfCSGLmep1",
        "outputId": "77a99e78-4417-4223-dd3d-22db797b5f01"
      },
      "source": [
        "##checking it on a random sample\n",
        "vehicle_config = {\n",
        "    'cylinders': [4, 6, 8],\n",
        "    'displacement': [155.0, 160.0, 165.5],\n",
        "    'horsepower': [93.0, 130.0, 98.0],\n",
        "    'weight': [2500.0, 3150.0, 2600.0],\n",
        "    'acceleration': [15.0, 14.0, 16.0],\n",
        "    'model_year': [81, 80, 78],\n",
        "    'origin': [3, 2, 1]\n",
        "}\n",
        "\n",
        "predict_mpg(vehicle_config, final_model)"
      ],
      "execution_count": 41,
      "outputs": [
        {
          "output_type": "execute_result",
          "data": {
            "text/plain": [
              "array([34.48666667, 16.93333333, 20.85333333])"
            ]
          },
          "metadata": {
            "tags": []
          },
          "execution_count": 41
        }
      ]
    },
    {
      "cell_type": "markdown",
      "metadata": {
        "id": "lNNEebh9mmoB"
      },
      "source": [
        "## Model Save"
      ]
    },
    {
      "cell_type": "code",
      "metadata": {
        "id": "9ALskerCmhJu"
      },
      "source": [
        "import pickle"
      ],
      "execution_count": 42,
      "outputs": []
    },
    {
      "cell_type": "code",
      "metadata": {
        "id": "yXcsv-6vmib0"
      },
      "source": [
        "#saving the model\n",
        "with open(\"model.bin\", 'wb') as f_out:\n",
        "    pickle.dump(final_model, f_out)\n",
        "    f_out.close()"
      ],
      "execution_count": 43,
      "outputs": []
    },
    {
      "cell_type": "code",
      "metadata": {
        "colab": {
          "base_uri": "https://localhost:8080/"
        },
        "id": "RHhIjXqBmkGy",
        "outputId": "997be50a-020a-4f59-b5a9-b4aa512f39d8"
      },
      "source": [
        "#loading the model from the saved file\n",
        "with open('model.bin', 'rb') as f_in:\n",
        "    model = pickle.load(f_in)\n",
        "\n",
        "predict_mpg(vehicle_config, model)"
      ],
      "execution_count": 45,
      "outputs": [
        {
          "output_type": "execute_result",
          "data": {
            "text/plain": [
              "array([34.48666667, 16.93333333, 20.85333333])"
            ]
          },
          "metadata": {
            "tags": []
          },
          "execution_count": 45
        }
      ]
    }
  ]
}